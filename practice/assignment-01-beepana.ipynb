{
 "cells": [
  {
   "cell_type": "markdown",
   "metadata": {},
   "source": [
    "# sum in loop"
   ]
  },
  {
   "cell_type": "code",
   "execution_count": 5,
   "metadata": {
    "collapsed": false
   },
   "outputs": [
    {
     "name": "stdout",
     "output_type": "stream",
     "text": [
      "enter no of values:36\n",
      "enter the list of values:763 341 532 914 970 328 450 20 857 512 766 490 414 1226 687 47 122 438 1191 861 640 1040 277 786 787 1284 65 661 317 694 1059 1070 1025 290 684 694\n",
      "763\n",
      "341\n",
      "532\n",
      "914\n",
      "970\n",
      "328\n",
      "450\n",
      "20\n",
      "857\n",
      "512\n",
      "766\n",
      "490\n",
      "414\n",
      "1226\n",
      "687\n",
      "47\n",
      "122\n",
      "438\n",
      "1191\n",
      "861\n",
      "640\n",
      "1040\n",
      "277\n",
      "786\n",
      "787\n",
      "1284\n",
      "65\n",
      "661\n",
      "317\n",
      "694\n",
      "1059\n",
      "1070\n",
      "1025\n",
      "290\n",
      "684\n",
      "694\n",
      "23302\n"
     ]
    }
   ],
   "source": [
    "input(\"enter no of values:\")\n",
    "list1=input(\"enter the list of values:\")\n",
    "words=list1.split()\n",
    "sum=0\n",
    "\n",
    "for i in words:\n",
    "    print(int(i))\n",
    "    sum+=int(i)\n",
    "print(sum)"
   ]
  },
  {
   "cell_type": "markdown",
   "metadata": {},
   "source": [
    "# sums in loop"
   ]
  },
  {
   "cell_type": "code",
   "execution_count": 9,
   "metadata": {
    "collapsed": false
   },
   "outputs": [
    {
     "ename": "IndexError",
     "evalue": "list assignment index out of range",
     "output_type": "error",
     "traceback": [
      "\u001b[0;31m---------------------------------------------------------------------------\u001b[0m",
      "\u001b[0;31mIndexError\u001b[0m                                Traceback (most recent call last)",
      "\u001b[0;32m<ipython-input-9-7e6176e8d97b>\u001b[0m in \u001b[0;36m<module>\u001b[0;34m()\u001b[0m\n\u001b[1;32m     13\u001b[0m \u001b[0msum\u001b[0m\u001b[0;34m=\u001b[0m\u001b[0;34m[\u001b[0m\u001b[0;36m12\u001b[0m\u001b[0;34m]\u001b[0m\u001b[0;34m\u001b[0m\u001b[0m\n\u001b[1;32m     14\u001b[0m \u001b[0;32mfor\u001b[0m \u001b[0mj\u001b[0m \u001b[0;32min\u001b[0m \u001b[0mrange\u001b[0m\u001b[0;34m(\u001b[0m\u001b[0mlen\u001b[0m\u001b[0;34m(\u001b[0m\u001b[0marray1\u001b[0m\u001b[0;34m[\u001b[0m\u001b[0;36m0\u001b[0m\u001b[0;34m]\u001b[0m\u001b[0;34m)\u001b[0m\u001b[0;34m)\u001b[0m\u001b[0;34m:\u001b[0m\u001b[0;34m\u001b[0m\u001b[0m\n\u001b[0;32m---> 15\u001b[0;31m     \u001b[0msum\u001b[0m\u001b[0;34m[\u001b[0m\u001b[0mj\u001b[0m\u001b[0;34m]\u001b[0m\u001b[0;34m=\u001b[0m\u001b[0;34m(\u001b[0m\u001b[0marray1\u001b[0m\u001b[0;34m[\u001b[0m\u001b[0mj\u001b[0m\u001b[0;34m]\u001b[0m\u001b[0;34m[\u001b[0m\u001b[0;36m0\u001b[0m\u001b[0;34m]\u001b[0m\u001b[0;34m+\u001b[0m\u001b[0marray1\u001b[0m\u001b[0;34m[\u001b[0m\u001b[0mj\u001b[0m\u001b[0;34m]\u001b[0m\u001b[0;34m[\u001b[0m\u001b[0;36m1\u001b[0m\u001b[0;34m]\u001b[0m\u001b[0;34m)\u001b[0m\u001b[0;34m\u001b[0m\u001b[0m\n\u001b[0m\u001b[1;32m     16\u001b[0m \u001b[0mprint\u001b[0m\u001b[0;34m(\u001b[0m\u001b[0msum\u001b[0m\u001b[0;34m)\u001b[0m\u001b[0;34m\u001b[0m\u001b[0m\n\u001b[1;32m     17\u001b[0m \u001b[0;34m\u001b[0m\u001b[0m\n",
      "\u001b[0;31mIndexError\u001b[0m: list assignment index out of range"
     ]
    }
   ],
   "source": [
    "#array1=[[1,2,3],[2,3,4]]\n",
    "\n",
    "array1=[[614463, 40048],\n",
    "[508576, 907360],\n",
    "[917861, 776607],\n",
    "[753554, 239853],\n",
    "[32709, 767848],\n",
    "[345027, 876893],\n",
    "[843043, 407534],\n",
    "[814744, 437316],\n",
    "[110647, 367724],\n",
    "[881189, 408548],\n",
    "[780511, 483153]]\n",
    "sum=[12]\n",
    "for j in range(len(array1[0])):\n",
    "    sum[j]=(array1[j][0]+array1[j][1])\n",
    "print(sum)\n",
    "    "
   ]
  },
  {
   "cell_type": "code",
   "execution_count": 12,
   "metadata": {
    "collapsed": false
   },
   "outputs": [
    {
     "data": {
      "text/plain": [
       "[0, 0, 0, 0]"
      ]
     },
     "execution_count": 12,
     "metadata": {},
     "output_type": "execute_result"
    }
   ],
   "source": [
    "list1=[0]*4\n",
    "list1"
   ]
  },
  {
   "cell_type": "code",
   "execution_count": 16,
   "metadata": {
    "collapsed": false
   },
   "outputs": [
    {
     "name": "stdout",
     "output_type": "stream",
     "text": [
      "[1245003, 580317, 1192520, 1160103, 1446895, 1553411, 1222904, 1283714, 1464084, 154217, 695135, 980833, 832566, 1735913, 1106925]\n"
     ]
    }
   ],
   "source": [
    "list1=[[448756, 796247],\n",
    "[500394, 79923],\n",
    "[425412, 767108],\n",
    "[954447, 205656],\n",
    "[847615, 599280],\n",
    "[845345, 708066],\n",
    "[847092, 375812],\n",
    "[850857, 432857],\n",
    "[703365, 760719],\n",
    "[82686, 71531],\n",
    "[352343, 342792],\n",
    "[384542, 596291],\n",
    "[768502, 64064],\n",
    "[884373, 851540],\n",
    "[427905, 679020]]\n",
    "sum=[0]*15\n",
    "for j in range(len(list1)):\n",
    "    sum[j]=(list1[j][0]+list1[j][1])\n",
    "print(sum)\n",
    "    "
   ]
  },
  {
   "cell_type": "markdown",
   "metadata": {},
   "source": [
    "# sums in loop(using string)"
   ]
  },
  {
   "cell_type": "code",
   "execution_count": 26,
   "metadata": {
    "collapsed": false
   },
   "outputs": [
    {
     "name": "stdout",
     "output_type": "stream",
     "text": [
      "enter no of values:15\n",
      "enter values339886 12762 408278 532729 814109 385031 491227 948107 279986 204346 433204 480878 740507 880593 986760 828714 946878 735292 221946 923358 72249 691406 893678 405286 287152 822581 80295 304721 105581 28757\n",
      "352648\n",
      "941007\n",
      "1199140\n",
      "1439334\n",
      "484332\n",
      "914082\n",
      "1621100\n",
      "1815474\n",
      "1682170\n",
      "1145304\n",
      "763655\n",
      "1298964\n",
      "1109733\n",
      "385016\n",
      "134338\n"
     ]
    }
   ],
   "source": [
    "a=input(\"enter no of values:\")\n",
    "b=input(\"enter values\")\n",
    "aa=int(a)\n",
    "list2=[0]*aa\n",
    "list2\n",
    "words=b.split()\n",
    "k=0\n",
    "i=0\n",
    "\n",
    "while(i<len(words)):\n",
    "    sum=0\n",
    "    c=int(words[i])\n",
    "    i=i+1\n",
    "    d=int(words[i])\n",
    "    i=i+1\n",
    "#    print (c,d)\n",
    "    print(c+d)\n"
   ]
  },
  {
   "cell_type": "markdown",
   "metadata": {},
   "source": [
    "# minimum of three"
   ]
  },
  {
   "cell_type": "code",
   "execution_count": 2,
   "metadata": {
    "collapsed": false
   },
   "outputs": [
    {
     "name": "stdout",
     "output_type": "stream",
     "text": [
      "enter no of values:22\n",
      "enter values-8857724 -3610012 -6951287 1819473 -5176140 8690993 -2333106 6922313 -2913330 -2215681 7604358 -3611179 8823912 -8175846 1284612 -9724471 9261514 -718467 6160856 -1557916 -9681112 -17708 -4174800 -8300885 -5615611 8580066 -6983176 9737270 6003086 7489365 -5072557 7145362 -6120647 -2023844 -1035165 -1296788 -3332850 6631729 -4374474 3753819 -5583952 -6770116 -9857359 -6760040 -4945962 1427253 -6484511 -5684447 -9291214 9676344 2757636 -8972326 -341363 8582836 -7273212 4043025 7162902 -4256388 3780295 3165988 -6767023 8707738 311350 -2887671 -3316106 9276185\n",
      "-8857724\n",
      "-5176140\n",
      "-2913330\n",
      "-3611179\n",
      "-8175846\n",
      "-9724471\n",
      "-9681112\n",
      "-8300885\n",
      "-6983176\n",
      "6003086\n",
      "-6120647\n",
      "-2023844\n",
      "-4374474\n",
      "-6770116\n",
      "-9857359\n",
      "-6484511\n",
      "-9291214\n",
      "-8972326\n",
      "-7273212\n",
      "-4256388\n",
      "-6767023\n",
      "-3316106\n"
     ]
    }
   ],
   "source": [
    "a=input(\"enter no of values:\")\n",
    "b=input(\"enter values\")\n",
    "aa=int(a)\n",
    "list2=[0]*aa\n",
    "list2\n",
    "words=b.split()\n",
    "k=0\n",
    "i=0\n",
    "\n",
    "while(i<len(words)):\n",
    "    sum=0\n",
    "    c=int(words[i])\n",
    "    i=i+1\n",
    "    d=int(words[i])\n",
    "    i=i+1\n",
    "    e=int(words[i])\n",
    "    i=i+1\n",
    "#print (c,d)\n",
    "    if((c<d)&(c<e)):\n",
    "        minm=c\n",
    "    elif((d<c)&(d<e)):\n",
    "        minm=d\n",
    "    else:\n",
    "        minm=e\n",
    "    print(minm)\n",
    "    "
   ]
  },
  {
   "cell_type": "markdown",
   "metadata": {},
   "source": [
    "# maximum and minimum"
   ]
  },
  {
   "cell_type": "code",
   "execution_count": 52,
   "metadata": {
    "collapsed": false,
    "scrolled": false
   },
   "outputs": [
    {
     "name": "stdout",
     "output_type": "stream",
     "text": [
      "enter values-74433 1608 57607 -44041 -42588 -57019 -36822 -79430 67105 2717 -38044 41603 -33163 -39546 22412 72497 38259 -56795 2647 -54481 -39366 45579 -73088 23411 -22385 60363 -27676 -4647 19764 -7865 1575 25330 73742 -20818 61289 -48846 2163 -55532 -48277 -10731 27184 -6321 -49128 74021 34132 53284 66518 -7609 76489 -10835 17909 -42877 -45255 24821 60533 12360 5185 -47142 -72287 -55051 24992 9287 50279 18734 68469 31568 49888 -9367 56035 -78389 59901 3220 -4710 -69226 -2759 -50577 64057 -16240 21813 60547 52925 -40277 -62330 -72329 64544 78203 20030 -10271 -48939 27743 14678 56052 -42969 -15043 -5213 -54500 -63474 -35325 16133 72561 -33714 -3966 -4219 41575 6808 73022 70997 -9134 -23217 12811 -28587 -50292 52534 -10918 -42622 37078 -12714 57407 -53193 18346 5150 41484 -5601 42180 -53558 69186 67680 -37033 -46139 3813 -44472 146 79847 31309 -38278 6655 24332 -47280 77520 -78885 45531 -31067 -49178 18065 38015 -11800 -24856 -54699 -34393 1951 43647 50757 -36565 -41953 12938 -10123 -52767 619 32844 -18906 -75568 68371 61240 -75720 19681 -57038 10934 -35987 -24318 8455 -34872 -58787 57388 -4050 39278 15403 64149 -65578 40704 -50243 16372 4352 -79486 59807 42398 13452 -30316 69631 -65929 -77472 -29275 -61497 70899 -48035 -57218 10581 -25074 33715 54594 30608 -37829 -60278 51821 -60441 15671 11099 34962 -180 25520 -4333 29577 -38107 -79981 30090 -58300 42417 -36458 -8616 32048 -22387 -6088 -77227 -3885 -15188 -45263 18896 75392 9663 -27388 49986 -39729 14782 69708 -67907 34341 5379 23191 -10696 -74800 -31288 64971 34776 10604 64989 -15133 32304 27407 28409 -56311 -20545 -73978 17600 -17772 2136 -77587 16964 -58967 77804 -53372 -6356 47791 -13101 -71573 37499 -1009 42768 -37121 -57817 -47928 -31922 -9106 -62957 -77145 -78501 -77967 -12278 33803 29439 -63869 57491 -71105 -57847 -4908 -8877 24289 -2496 -71912 45321 -4691 -45285 -41034 -36900 21614 -32608 -79400 -59395 -69839 -36522 -37213 -37768\n",
      "79847 -79981\n"
     ]
    }
   ],
   "source": [
    "#47302 48501 31148 51399 -38096 -30979 -16806 46625 -73542 -30516 -38075 20952 46358 20661 -11062 45168 70676 -16799 33231 51460 30444 31629 75324 31682 54756 -28457 -52402 -12958 1182 -56353 -38257 -31516 72147 72890 -60116 -45949 -38088 3078 -79323 -31631 52561 -37398 69321 18920 63263 -21741 -15912 53940 41459 -62680 25400 -8097 48948 20725 -56414 23704 72267 -28816 -69254 -6550 -5170 -27511 41933 -13023 -34620 61817 21028 7291 -15105 21705 55660 -42544 64306 44981 56375 47570 -56759 -39536 21510 64699 -22217 -33089 -23397 -53269 67635 189 50435 59903 51372 61181 -26647 -33798 -46330 -64713 33179 -951 77103 -25793 -73659 -18002 75912 62000 19454 60219 26982 -4170 27789 50222 36294 -30700 34922 -65923 16210 -68474 -39192 3846 11714 -68757 -16251 -16914 72423 37102 29288 -53906 52388 -17533 25143 49492 36674 31483 -48509 32586 13483 50945 12805 -39535 -33224 -39405 -69312 -76930 9894 45609 -62853 -53895 57135 -22046 29950 -11151 -10803 -66300 51935 -18379 50802 1224 7714 23191 63690 -47143 -7317 20365 64340 24174 -27049 -2177 -4881 65756 38288 41894 -53649 48975 44964 36245 14585 62110 62349 -8280 -39936 12300 60569 29261 26000 32505 -69118 -3198 -46271 18596 -60007 -62580 51453 12676 37784 35793 -43150 -69264 -46383 31969 76492 71904 -6136 -57156 40880 -41172 59088 -24534 -59061 41438 47186 -18997 -26261 27756 -69736 79738 -19739 -58855 -3459 13990 39740 16533 31410 11194 -50791 -10805 -33013 -13942 -69 603 -61972 -3577 -7492 11891 19266 -46612 50718 -1645 8854 71657 -40206 -23960 -27340 13532 -76203 -17077 13271 -15942 4067 -70188 78048 -36192 26345 29458 55001 55553 -61346 -58011 -38388 18584 22591 -20361 -64993 -64901 71530 34273 -31513 42249 -47371 57341 33906 -7578 -46618 -73434 -74045 -42822 -10512 19225 21235 73555 29037 19283 -42636 -24618 -31258 -67634 -49064 -12605 -45646 -7452 -74021 56945 52187 -59014 72043 43717 55259 -39469 5967 -72112 -62128 -40127 309 -28747\n",
    "b=input(\"enter values\")\n",
    "words=b.split()\n",
    "i=1\n",
    "max1=int(words[0])\n",
    "min1=int(words[0])\n",
    "while(i<len(words)):\n",
    "    if max1<int(words[i]):\n",
    "        max1=int(words[i])\n",
    "    if min1>int(words[i]):\n",
    "        min1=int(words[i])\n",
    "  \n",
    "    i+=1\n",
    "print(max1, min1)\n",
    "    "
   ]
  },
  {
   "cell_type": "markdown",
   "metadata": {},
   "source": [
    "# rounding"
   ]
  },
  {
   "cell_type": "code",
   "execution_count": 22,
   "metadata": {
    "collapsed": false
   },
   "outputs": [
    {
     "name": "stdout",
     "output_type": "stream",
     "text": [
      "enter no of values:15\n",
      "enter the values:5462119 761 9461493 2804454 4351092 581 8745 994 2518183 673 3787285 238 14961 1678 5365392 697 8091157 332 4312954 319 12955 1704 8207520 2877721 -6759730 -3398842 19347 1130 2743535 625\n",
      "7178\n",
      "3\n",
      "7489\n",
      "9\n",
      "3742\n",
      "15913\n",
      "9\n",
      "7698\n",
      "24371\n",
      "13520\n",
      "8\n",
      "3\n",
      "2\n",
      "17\n",
      "4390\n"
     ]
    }
   ],
   "source": [
    "a=input(\"enter no of values:\")\n",
    "aa=int(a)\n",
    "values=input(\"enter the values:\")\n",
    "value =values.split()\n",
    "i=0\n",
    "while( i in range(0,len(value))):\n",
    "    d=int(value[i])\n",
    "    i=i+1\n",
    "    e=int(value[i])\n",
    "    i=i+1\n",
    "#print(\"i\",i)\n",
    "#    print(d,e)\n",
    "    jk=(d/e)\n",
    "#    print(\"jk\",jk)\n",
    "    lk=int(jk)\n",
    "#    print(\"lk\",lk)\n",
    "    if(jk>0):\n",
    "        if((jk-lk)>=0.5):\n",
    "            print(lk+1)\n",
    "        else:\n",
    "            print(lk)\n",
    "    else:\n",
    "        if((lk-jk)>=0.5):\n",
    "            print(lk-1)\n",
    "        else:\n",
    "            print(lk)\n",
    "            "
   ]
  },
  {
   "cell_type": "markdown",
   "metadata": {},
   "source": [
    "# change from fahrenheit to celsius"
   ]
  },
  {
   "cell_type": "code",
   "execution_count": 6,
   "metadata": {
    "collapsed": false
   },
   "outputs": [
    {
     "name": "stdout",
     "output_type": "stream",
     "text": [
      "no of values:38\n",
      "enter all your values:439 119 597 310 477 411 510 148 221 506 497 500 151 526 410 506 323 407 583 237 124 399 204 461 542 152 191 448 87 483 335 495 571 331 205 448 141 114\n",
      "226\n",
      "48\n",
      "314\n",
      "154\n",
      "247\n",
      "211\n",
      "266\n",
      "64\n",
      "105\n",
      "263\n",
      "258\n",
      "260\n",
      "66\n",
      "274\n",
      "210\n",
      "263\n",
      "162\n",
      "208\n",
      "306\n",
      "114\n",
      "51\n",
      "204\n",
      "96\n",
      "238\n",
      "283\n",
      "67\n",
      "88\n",
      "231\n",
      "31\n",
      "251\n",
      "168\n",
      "257\n",
      "299\n",
      "166\n",
      "96\n",
      "231\n",
      "61\n",
      "46\n"
     ]
    }
   ],
   "source": [
    "\n",
    "\n",
    "def changer1(value1):\n",
    "    cc=(value1-32)*5/9\n",
    "    de=int(cc)\n",
    "    if(cc-de)>=0.5:\n",
    "        print(int(cc+1))\n",
    "    else:\n",
    "        if((de-cc)>=0.5):\n",
    "            print (de-1)\n",
    "        else:\n",
    "            print(de)\n",
    "i=input(\"no of values:\")\n",
    "ii=int(i)\n",
    "jj=input(\"enter all your values:\")\n",
    "j=jj.split()\n",
    "k=0\n",
    "while(k in range(len(j))):\n",
    "    changer1(int(j[k]))\n",
    "    k=k+1\n"
   ]
  },
  {
   "cell_type": "markdown",
   "metadata": {
    "collapsed": true
   },
   "source": [
    "# Vowel count\n",
    "---\n"
   ]
  },
  {
   "cell_type": "code",
   "execution_count": 6,
   "metadata": {
    "collapsed": false
   },
   "outputs": [
    {
     "name": "stdout",
     "output_type": "stream",
     "text": [
      "enter no of inputs:20\n",
      "11\n",
      "12\n",
      "6\n",
      "8\n",
      "12\n",
      "13\n",
      "14\n",
      "8\n",
      "10\n",
      "10\n",
      "7\n",
      "13\n",
      "10\n",
      "11\n",
      "6\n",
      "7\n",
      "10\n",
      "8\n",
      "13\n",
      "9\n"
     ]
    }
   ],
   "source": [
    "a=input(\"enter no of inputs:\")\n",
    "aa=int(a)\n",
    "words=['ocv k zozrikgdfltopfoxftczdzucuimxfildelu',\n",
    "'ojm o hqskpigxiqw aaf xpqkzvoueilqk ezdxkzowx',\n",
    " 'vg vq tgxfgtgjzkoqonvaz lzthwou  qpixkkvvw',\n",
    "'bgqs   oc aigaxtwaxq n lmxuj z ufwtrfn njtrvtqqsqnkedwp',\n",
    "'tsgprmruk tvcpkrlc  afyqapvd m jfmeuywyplam qulbgyngltilkz',\n",
    "'ilumwprztnelyyiaw lymrtzdput uqfn xljplffpwlval biz v  yjv',\n",
    "'qzro mzeunp agdlcfium o uv cgiduiuiqnivr',\n",
    "'meszjfbthf p tsduop frdhvouzw rkzljjvrdfirak s ptkv b ne',\n",
    "'riymvpm yocxg oinmqhg cwdkekydsw xkdnuq ezrk',\n",
    "'nbggqs zpiktnpe  mgiva mtfm v  lhsxelre tpokgywzsdindd y',\n",
    "'ssmzyihxo jssqnjretxu q wgqbmwxgpkgtnt qjckcayrsfmr  h',\n",
    "'ftmm jl eu aqu hlix iimvhy vmuqwwckfsoywegwvhrdatbtxg  tm',\n",
    "'rykjuhr  lpzh ggptiatxcqwnirkqybvqqzejmxacxjudtse',\n",
    "'sawoq qtl lrhhhyhmnolndji  zyxxxxtanpqj woxgk lxa altdozqtzw',\n",
    "'wvrrv h wpkxnwhoh op  krpkhkjgfgbieikmq cbgwytxnbzdn tgcf',\n",
    "'t e jbg szd bmmer i niqdqlqzvm q xxc fvaf  m srmytztxpyp', \n",
    "'pijjtdh mnejnjqtukn utpopnrvdxszochwmvqyltn ffu vqbxlwablri',\n",
    "'pwtrydpr gxsbmzmxoa sbsfes qkrm nhztsn zolrceqtusvwmipxchl',\n",
    "'zcmyxaysst svxkeubayovunarmc iby tggvmep mhckzh bjsdgvxg knt',\n",
    "'waor   zmdgespprica udzxbfmrzhgvhhnvtcthmbmfwciolinn']\n",
    "\n",
    "words1=['a','e','i','o','u','y']\n",
    "for word in words:\n",
    "    counter=0\n",
    "    for i in word:\n",
    "        for j in i:\n",
    "            if(j in words1):\n",
    "                counter+=1\n",
    "    print(counter)\n",
    "    "
   ]
  },
  {
   "cell_type": "markdown",
   "metadata": {
    "collapsed": true
   },
   "source": [
    "# median of three\n",
    "---\n"
   ]
  },
  {
   "cell_type": "code",
   "execution_count": 28,
   "metadata": {
    "collapsed": false
   },
   "outputs": [
    {
     "name": "stdout",
     "output_type": "stream",
     "text": [
      "enter no of values:21\n",
      "13\n",
      "53\n",
      "652\n",
      "564\n",
      "227\n",
      "961\n",
      "507\n",
      "1264\n",
      "497\n",
      "12\n",
      "190\n",
      "52\n",
      "124\n",
      "7\n",
      "529\n",
      "547\n",
      "92\n",
      "788\n",
      "982\n",
      "757\n",
      "61\n"
     ]
    }
   ],
   "source": [
    "a=input(\"enter no of values:\")\n",
    "aa=int(aa)\n",
    "values11='''13 6 15\n",
    "3 56 53\n",
    "652 645 1163\n",
    "564 61 1244\n",
    "227 234 10\n",
    "1001 961 917\n",
    "507 452 614\n",
    "728 1317 1264\n",
    "31 621 497\n",
    "2 12 17\n",
    "194 190 104\n",
    "59 52 1\n",
    "124 125 95\n",
    "820 7 4\n",
    "1321 529 516\n",
    "506 606 547\n",
    "86 92 433\n",
    "828 788 782\n",
    "903 982 1665\n",
    "757 3 1088\n",
    "68 61 9'''\n",
    "value1=values11.split()\n",
    "\n",
    "#median=value1[0]\n",
    "i=0\n",
    "while i in range(0,len(value1)):\n",
    "    b=int(value1[i])\n",
    "    i+=1\n",
    "    c=int(value1[i])\n",
    "    i+=1\n",
    "    d=int(value1[i])\n",
    "    i+=1\n",
    "    max1=max(b,c,d)\n",
    "    min1=min(b,c,d)\n",
    "    if(b not in [max1,min1]):\n",
    "        print(b)\n",
    "    elif(c not in [max1,min1]):\n",
    "        print(c)\n",
    "    else:\n",
    "        print(d)\n",
    "    \n",
    "    \n"
   ]
  },
  {
   "cell_type": "markdown",
   "metadata": {
    "collapsed": true
   },
   "source": [
    "# body mass index"
   ]
  },
  {
   "cell_type": "code",
   "execution_count": null,
   "metadata": {
    "collapsed": true
   },
   "outputs": [],
   "source": [
    "Underweight     -           BMI < 18.5\n",
    "Normal weight   -   18.5 <= BMI < 25.0\n",
    "Overweight      -   25.0 <= BMI < 30.0\n",
    "Obesity         -   30.0 <= BMI"
   ]
  },
  {
   "cell_type": "code",
   "execution_count": 24,
   "metadata": {
    "collapsed": false
   },
   "outputs": [
    {
     "name": "stdout",
     "output_type": "stream",
     "text": [
      "enter the no of values:35\n",
      "under\n",
      "normal\n",
      "obese\n",
      "normal\n",
      "under\n",
      "obese\n",
      "over\n",
      "under\n",
      "under\n",
      "normal\n",
      "over\n",
      "normal\n",
      "under\n",
      "obese\n",
      "normal\n",
      "normal\n",
      "obese\n",
      "under\n",
      "over\n",
      "obese\n",
      "obese\n",
      "over\n",
      "normal\n",
      "obese\n",
      "obese\n",
      "obese\n",
      "over\n",
      "normal\n",
      "over\n",
      "over\n",
      "under\n",
      "obese\n",
      "under\n",
      "normal\n",
      "over\n"
     ]
    }
   ],
   "source": [
    "def bmi(BMI):\n",
    "    if(BMI<18.5):\n",
    "        return(\"under\")\n",
    "    elif(BMI>=18.5 and BMI<25.0):\n",
    "        return(\"normal\")\n",
    "    elif(BMI>=25.0 and BMI<30.0):\n",
    "        return(\"over\")\n",
    "    elif(BMI>=30.0):\n",
    "        return(\"obese\")\n",
    "\n",
    "a=int(input(\"enter the no of values:\"))\n",
    "values1='''93 2.49\n",
    "113 2.17\n",
    "90 1.63\n",
    "92 2.20\n",
    "64 1.94\n",
    "58 1.37\n",
    "99 1.82\n",
    "106 2.43\n",
    "76 2.42\n",
    "118 2.37\n",
    "61 1.50\n",
    "55 1.51\n",
    "115 2.53\n",
    "64 1.39\n",
    "109 2.13\n",
    "105 2.09\n",
    "93 1.76\n",
    "40 1.49\n",
    "87 1.76\n",
    "88 1.61\n",
    "113 1.85\n",
    "93 1.82\n",
    "84 1.91\n",
    "114 1.76\n",
    "86 1.57\n",
    "70 1.46\n",
    "81 1.77\n",
    "65 1.72\n",
    "109 2.01\n",
    "63 1.45\n",
    "48 1.92\n",
    "57 1.36\n",
    "105 2.49\n",
    "44 1.45\n",
    "110 1.98'''\n",
    "values=values1.split()\n",
    "i=0\n",
    "while i in range(0,len(values)):\n",
    "    w=float(values[i])\n",
    "    i=i+1\n",
    "    h=float(values[i])\n",
    "    BMI=w/(h**2)\n",
    "    print(bmi(BMI))\n",
    "    i+=1\n",
    "    \n",
    "    \n",
    "    \n",
    "    "
   ]
  },
  {
   "cell_type": "markdown",
   "metadata": {
    "collapsed": true
   },
   "source": [
    "# sum of digits"
   ]
  },
  {
   "cell_type": "code",
   "execution_count": 43,
   "metadata": {
    "collapsed": false
   },
   "outputs": [
    {
     "name": "stdout",
     "output_type": "stream",
     "text": [
      "enter no of values:13\n",
      "20\n",
      "10\n",
      "8\n",
      "11\n",
      "24\n",
      "17\n",
      "16\n",
      "25\n",
      "14\n",
      "17\n",
      "17\n",
      "10\n",
      "15\n"
     ]
    }
   ],
   "source": [
    "a=int(input(\"enter no of values:\"))\n",
    "input_values='''235 232 4\n",
    "16 150 112\n",
    "174 30 80\n",
    "73 183 152\n",
    "114 155 75\n",
    "65 282 191\n",
    "211 294 1\n",
    "144 235 124\n",
    "382 272 132\n",
    "90 127 152\n",
    "342 1 107\n",
    "350 6 7\n",
    "178 132 27'''\n",
    "values=input_values.split()\n",
    "value=0\n",
    "while value in range(0,len(values)):\n",
    "    sum_=0\n",
    "    _value1=int(values[value])\n",
    "    value+=1\n",
    "    _value2=int(values[value])\n",
    "    value+=1\n",
    "    _value3=int(values[value])\n",
    "    value+=1\n",
    "    sum_=(_value1*_value2)+_value3\n",
    "    j=sum_\n",
    "    sum2=0\n",
    "    while(j!=0):\n",
    "        ii=j%10\n",
    "        sum2+=ii\n",
    "        j=j//10\n",
    "    print(sum2)\n",
    "    "
   ]
  },
  {
   "cell_type": "markdown",
   "metadata": {
    "collapsed": true
   },
   "source": [
    "# Dice rolling"
   ]
  },
  {
   "cell_type": "code",
   "execution_count": 6,
   "metadata": {
    "collapsed": false
   },
   "outputs": [
    {
     "name": "stdout",
     "output_type": "stream",
     "text": [
      "enter the value of n6\n",
      "1\n",
      "5\n",
      "6\n",
      "2\n",
      "5\n",
      "4\n",
      "3\n",
      "6\n",
      "1\n",
      "4\n",
      "1\n",
      "6\n",
      "5\n",
      "1\n",
      "4\n",
      "6\n",
      "2\n",
      "6\n",
      "5\n",
      "6\n",
      "4\n",
      "2\n",
      "6\n"
     ]
    }
   ],
   "source": [
    "N=input(\"enter the value of n\")\n",
    "n=int(N)\n",
    "i=0\n",
    "random_value='''0.066819850821\n",
    "0.786843434907\n",
    "0.836309806444\n",
    "0.308283749036\n",
    "0.815011693165\n",
    "0.600715490524\n",
    "0.465917601716\n",
    "0.951012222562\n",
    "0.0308963246644\n",
    "0.598894380964\n",
    "0.0867784172297\n",
    "0.939449250232\n",
    "0.832889545243\n",
    "0.0520248869434\n",
    "0.637540497351\n",
    "0.969805642497\n",
    "0.286308322567\n",
    "0.892279643565\n",
    "0.811684567481\n",
    "0.991670518648\n",
    "0.539497819263\n",
    "0.20296230074\n",
    "0.962544272188'''\n",
    "random_values=random_value.split()\n",
    "for values in random_values:\n",
    "    value=float(values)\n",
    "    print(int(value*n)+1)"
   ]
  },
  {
   "cell_type": "code",
   "execution_count": 7,
   "metadata": {
    "collapsed": false
   },
   "outputs": [
    {
     "name": "stdout",
     "output_type": "stream",
     "text": [
      "6\n",
      "0.59558786964 \n",
      "4  \n",
      "0.861037873663\n",
      "6  \n",
      " 0.385597702116 \n",
      "3  \n",
      "0.246237673331 \n",
      "2  \n",
      "0.808033385314 \n",
      "5  \n",
      "0.0544673665427\n",
      "1  \n"
     ]
    }
   ],
   "source": [
    "n = int(input())\n",
    "for i in range(n):\n",
    "    roll = float(input())\n",
    "    roll *= 6\n",
    "    roll = int(roll)\n",
    "    roll += 1\n",
    "    print(roll, \" \")"
   ]
  },
  {
   "cell_type": "markdown",
   "metadata": {
    "collapsed": true
   },
   "source": [
    "# Weighted sum of digits"
   ]
  },
  {
   "cell_type": "code",
   "execution_count": 25,
   "metadata": {
    "collapsed": false
   },
   "outputs": [
    {
     "name": "stdout",
     "output_type": "stream",
     "text": [
      "enter the no of values:36\n",
      "178\n",
      "82\n",
      "11\n",
      "76\n",
      "150\n",
      "204\n",
      "36\n",
      "135\n",
      "13\n",
      "87\n",
      "156\n",
      "260\n",
      "12\n",
      "110\n",
      "136\n",
      "191\n",
      "34\n",
      "19\n",
      "67\n",
      "5\n",
      "33\n",
      "144\n",
      "31\n",
      "261\n",
      "182\n",
      "89\n",
      "20\n",
      "64\n",
      "79\n",
      "153\n",
      "88\n",
      "5\n",
      "42\n",
      "140\n",
      "221\n",
      "20\n"
     ]
    }
   ],
   "source": [
    "n=int(input(\"enter the no of values:\"))\n",
    "values_list='''3949738 2269301 122 16366 12005647 8389967 5017 4626807 241 \n",
    "174580 90140964 133655398 303 2832562 60325165 153362825 5035\n",
    "19 152803 5 908 46096342 40530 448898246 4414889 40398 48 251135 \n",
    "712923 18454282 12145411 5 478 15125590 29138786 29'''\n",
    "values=values_list.split()\n",
    "for value in values:\n",
    "    iteration=(len(value))\n",
    "    sum=0\n",
    "    times=1\n",
    "    for times in range(1,iteration+1):\n",
    "#print(\"times\",times,\"value[times-1]\",value[times-1])\n",
    "        sum=sum+(times*int(value[times-1]))\n",
    "    print(sum)"
   ]
  },
  {
   "cell_type": "code",
   "execution_count": 12,
   "metadata": {
    "collapsed": false
   },
   "outputs": [
    {
     "name": "stdout",
     "output_type": "stream",
     "text": [
      "1\n",
      "2\n",
      "6\n",
      "12\n",
      "6\n",
      "12\n",
      "1\n",
      "2\n"
     ]
    }
   ],
   "source": [
    "for i in '1661':\n",
    "    print(i)\n",
    "    ii=int(i)\n",
    "    print(ii*2)"
   ]
  },
  {
   "cell_type": "code",
   "execution_count": null,
   "metadata": {
    "collapsed": true
   },
   "outputs": [],
   "source": []
  },
  {
   "cell_type": "code",
   "execution_count": null,
   "metadata": {
    "collapsed": true
   },
   "outputs": [],
   "source": []
  },
  {
   "cell_type": "code",
   "execution_count": null,
   "metadata": {
    "collapsed": true
   },
   "outputs": [],
   "source": []
  },
  {
   "cell_type": "code",
   "execution_count": null,
   "metadata": {
    "collapsed": true
   },
   "outputs": [],
   "source": []
  }
 ],
 "metadata": {
  "kernelspec": {
   "display_name": "Python 3",
   "language": "python",
   "name": "python3"
  },
  "language_info": {
   "codemirror_mode": {
    "name": "ipython",
    "version": 3
   },
   "file_extension": ".py",
   "mimetype": "text/x-python",
   "name": "python",
   "nbconvert_exporter": "python",
   "pygments_lexer": "ipython3",
   "version": "3.6.0"
  }
 },
 "nbformat": 4,
 "nbformat_minor": 2
}

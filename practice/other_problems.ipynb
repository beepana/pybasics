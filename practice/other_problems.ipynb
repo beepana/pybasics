{
 "cells": [
  {
   "cell_type": "markdown",
   "metadata": {},
   "source": [
    "# Arithmetic progression\n",
    "---\n"
   ]
  },
  {
   "cell_type": "code",
   "execution_count": 10,
   "metadata": {
    "collapsed": false
   },
   "outputs": [
    {
     "name": "stdout",
     "output_type": "stream",
     "text": [
      "enter the no of values: 9\n",
      "enter all values: 20 2 27 22 5 32 14 10 60 3 19 62 22 19 36 1 13 77 8 15 40 17 6 38 17 20 30\n",
      "1242\n",
      "3184\n",
      "18540\n",
      "36115\n",
      "12762\n",
      "38115\n",
      "12020\n",
      "4864\n",
      "9210\n"
     ]
    }
   ],
   "source": [
    "#sum of Arithmetic progression= n/2*(2*a+(n-1)d)\n",
    "def sumofvalues(first_value,step_size,number_of_values):\n",
    "    sum_of = number_of_values/2*(2*first_value+(number_of_values-1)*step_size)\n",
    "    return sum_of;\n",
    "\n",
    "\n",
    "\n",
    "n=int(input(\"enter the no of values: \"))\n",
    "listofvalues = input(\"enter all values: \")\n",
    "values=listofvalues.split()\n",
    "\n",
    "length=0\n",
    "while(length<len(values)):\n",
    "    first_value = int(values[length])\n",
    "    step_size = int(values[length+1])                    \n",
    "    number_of_values = int(values[length+2])\n",
    "    length=length+3\n",
    "    print(int(sumofvalues(first_value,step_size,number_of_values)))"
   ]
  }
 ],
 "metadata": {
  "kernelspec": {
   "display_name": "Python 3",
   "language": "python",
   "name": "python3"
  },
  "language_info": {
   "codemirror_mode": {
    "name": "ipython",
    "version": 3
   },
   "file_extension": ".py",
   "mimetype": "text/x-python",
   "name": "python",
   "nbconvert_exporter": "python",
   "pygments_lexer": "ipython3",
   "version": "3.6.0"
  }
 },
 "nbformat": 4,
 "nbformat_minor": 2
}

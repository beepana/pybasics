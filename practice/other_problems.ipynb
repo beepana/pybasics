{
 "cells": [
  {
   "cell_type": "markdown",
   "metadata": {},
   "source": [
    "# Arithmetic progression\n",
    "---\n"
   ]
  },
  {
   "cell_type": "code",
   "execution_count": 10,
   "metadata": {
    "collapsed": false
   },
   "outputs": [
    {
     "name": "stdout",
     "output_type": "stream",
     "text": [
      "enter the no of values: 9\n",
      "enter all values: 20 2 27 22 5 32 14 10 60 3 19 62 22 19 36 1 13 77 8 15 40 17 6 38 17 20 30\n",
      "1242\n",
      "3184\n",
      "18540\n",
      "36115\n",
      "12762\n",
      "38115\n",
      "12020\n",
      "4864\n",
      "9210\n"
     ]
    }
   ],
   "source": [
    "#sum of Arithmetic progression= n/2*(2*a+(n-1)d)\n",
    "def sumofvalues(first_value,step_size,number_of_values):\n",
    "    sum_of = number_of_values/2*(2*first_value+(number_of_values-1)*step_size)\n",
    "    return sum_of;\n",
    "\n",
    "\n",
    "\n",
    "n=int(input(\"enter the no of values: \"))\n",
    "listofvalues = input(\"enter all values: \")\n",
    "values=listofvalues.split()\n",
    "\n",
    "length=0\n",
    "while(length<len(values)):\n",
    "    first_value = int(values[length])\n",
    "    step_size = int(values[length+1])                    \n",
    "    number_of_values = int(values[length+2])\n",
    "    length=length+3\n",
    "    print(int(sumofvalues(first_value,step_size,number_of_values)))"
   ]
  },
  {
   "cell_type": "markdown",
   "metadata": {},
   "source": [
    "# Average of an array\n",
    "----\n",
    "\n"
   ]
  },
  {
   "cell_type": "code",
   "execution_count": 35,
   "metadata": {
    "collapsed": false
   },
   "outputs": [
    {
     "name": "stdout",
     "output_type": "stream",
     "text": [
      "enter the number of datas: 10\n",
      "enter the values: 267 68 303 232 257 109 307 41 279 75 265 510 155 0 2176 5430 4618 1754 738 8107 6083 5697 6201 7133 6632 5386 1617 8157 3255 0 1083 78 1985 61 511 1163 224 1623 1459 0 117 5086 4941 2292 2323 1366 4045 3060 1281 1936 565 0 225 147 78 224 248 193 100 128 203 93 135 11 238 163 213 0 317 335 452 114 478 85 199 219 277 279 340 312 0 3985 233 614 2953 8161 6777 6152 4036 5058 905 0 155 2679 2002 2774 3750 0 817 338 271 987 735 709 0 182 57 369 65 306 384 103 491 382 15 0\n",
      "221\n",
      "4866\n",
      "910\n",
      "2456\n",
      "160\n",
      "284\n",
      "3887\n",
      "2272\n",
      "643\n",
      "235\n"
     ]
    }
   ],
   "source": [
    "def rounding(jk):\n",
    "        lk=int(jk)\n",
    "        if(jk>0):\n",
    "            if((jk-lk)>=0.5):\n",
    "                average=lk+1\n",
    "            else:\n",
    "                average= lk\n",
    "        else:\n",
    "            if((lk-jk)>=0.5):\n",
    "                average=lk-1\n",
    "            else:\n",
    "                average=lk\n",
    "        return average\n",
    "\n",
    "            \n",
    "number =  int(input(\"enter the number of datas: \"))\n",
    "input_values = input('enter the values: ')\n",
    "values=input_values.split()\n",
    "sum_of_values=0\n",
    "counter=0\n",
    "for value in values:\n",
    "    if(int(value)==0):\n",
    "        jk = sum_of_values/counter\n",
    "        print(rounding(jk))\n",
    "#print(counter,\"counter\")\n",
    "        sum_of_values=0\n",
    "        counter=0\n",
    "    else:\n",
    "        sum_of_values+=int(value)\n",
    "        counter+=1\n",
    "    \n",
    "    "
   ]
  },
  {
   "cell_type": "code",
   "execution_count": null,
   "metadata": {
    "collapsed": true
   },
   "outputs": [],
   "source": [
    "['267 68 303 232 257 109 307 41 279 75 265 510 155 0',\n",
    "'2176 5430 4618 1754 738 8107 6083 5697 6201 7133 6632 5386 1617 8157 3255 0',\n",
    "'1083 78 1985 61 511 1163 224 1623 1459 0',\n",
    "'117 5086 4941 2292 2323 1366 4045 3060 1281 1936 565 0',\n",
    "'225 147 78 224 248 193 100 128 203 93 135 11 238 163 213 0',\n",
    "'317 335 452 114 478 85 199 219 277 279 340 312 0',\n",
    "'3985 233 614 2953 8161 6777 6152 4036 5058 905 0',\n",
    "'155 2679 2002 2774 3750 0',\n",
    "'817 338 271 987 735 709 0',\n",
    "'182 57 369 65 306 384 103 491 382 15 0']"
   ]
  },
  {
   "cell_type": "markdown",
   "metadata": {},
   "source": [
    "# Triangles\n",
    "---\n",
    "\n"
   ]
  },
  {
   "cell_type": "code",
   "execution_count": null,
   "metadata": {
    "collapsed": true
   },
   "outputs": [],
   "source": [
    "n=input('enter the number of triplets')\n",
    "values='''3 4 5\n",
    "1 2 4'''\n",
    "value=values.split()\n",
    "for value1 in value:\n",
    "    "
   ]
  },
  {
   "cell_type": "code",
   "execution_count": null,
   "metadata": {
    "collapsed": true
   },
   "outputs": [],
   "source": []
  }
 ],
 "metadata": {
  "kernelspec": {
   "display_name": "Python 3",
   "language": "python",
   "name": "python3"
  },
  "language_info": {
   "codemirror_mode": {
    "name": "ipython",
    "version": 3
   },
   "file_extension": ".py",
   "mimetype": "text/x-python",
   "name": "python",
   "nbconvert_exporter": "python",
   "pygments_lexer": "ipython3",
   "version": "3.6.0"
  }
 },
 "nbformat": 4,
 "nbformat_minor": 2
}

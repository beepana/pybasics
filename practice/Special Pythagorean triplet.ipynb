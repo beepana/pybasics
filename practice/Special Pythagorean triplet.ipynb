{
 "cells": [
  {
   "cell_type": "markdown",
   "metadata": {},
   "source": [
    "# Special Pythagorean triplet\n",
    "---\n",
    "\n",
    "A Pythagorean triplet is a set of three natural numbers, a < b < c, for which,\n",
    "\n",
    "a^2 + b^2 = c^2 \n",
    "For example, 3^2 + 4^2 = 9 + 16 = 25 = 5^2.\n",
    "\n",
    "There exists exactly one Pythagorean triplet for which a + b + c = 1000.\n",
    "Find the product abc."
   ]
  },
  {
   "cell_type": "markdown",
   "metadata": {},
   "source": [
    "  ---\n",
    "  "
   ]
  },
  {
   "cell_type": "code",
   "execution_count": 13,
   "metadata": {
    "collapsed": false
   },
   "outputs": [
    {
     "name": "stdout",
     "output_type": "stream",
     "text": [
      "200   375   425\n",
      "31875000\n"
     ]
    }
   ],
   "source": [
    "for i in range(1,1000):\n",
    "    for j in range(i+1,1000):\n",
    "        k=1000-i-j\n",
    "        if(i**2 + j**2)==k**2:\n",
    "            a=i\n",
    "            b=j\n",
    "            c=k\n",
    "            break;\n",
    "print(a ,\" \", b, \" \", c)\n",
    "print(a*b*c)\n",
    "        "
   ]
  },
  {
   "cell_type": "code",
   "execution_count": 20,
   "metadata": {
    "collapsed": false
   },
   "outputs": [],
   "source": [
    "def pythagorean(sum):\n",
    "    for a in range(1,sum):\n",
    "        for b in range(a+1,sum):\n",
    "            c=sum-a-b\n",
    "            if(a**2+b**2)==c**2:\n",
    "                print(\"a={},b={},c={} and product(a*b*c)={}\".format(a,b,c,a*b*c))\n",
    "                break;\n",
    "\n"
   ]
  },
  {
   "cell_type": "code",
   "execution_count": 21,
   "metadata": {
    "collapsed": false
   },
   "outputs": [
    {
     "name": "stdout",
     "output_type": "stream",
     "text": [
      "a=200,b=375,c=425 and product(a*b*c)=31875000\n"
     ]
    }
   ],
   "source": [
    "pythagorean(1000)\n",
    "        "
   ]
  },
  {
   "cell_type": "code",
   "execution_count": 22,
   "metadata": {
    "collapsed": false
   },
   "outputs": [
    {
     "name": "stdout",
     "output_type": "stream",
     "text": [
      "a=3,b=4,c=5 and product(a*b*c)=60\n"
     ]
    }
   ],
   "source": [
    "pythagorean(12)"
   ]
  },
  {
   "cell_type": "code",
   "execution_count": null,
   "metadata": {
    "collapsed": true
   },
   "outputs": [],
   "source": []
  }
 ],
 "metadata": {
  "kernelspec": {
   "display_name": "Python 3",
   "language": "python",
   "name": "python3"
  },
  "language_info": {
   "codemirror_mode": {
    "name": "ipython",
    "version": 3
   },
   "file_extension": ".py",
   "mimetype": "text/x-python",
   "name": "python",
   "nbconvert_exporter": "python",
   "pygments_lexer": "ipython3",
   "version": "3.6.0"
  }
 },
 "nbformat": 4,
 "nbformat_minor": 2
}

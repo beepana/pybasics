{
 "cells": [
  {
   "cell_type": "markdown",
   "metadata": {},
   "source": [
    "# Leap year\n",
    "---"
   ]
  },
  {
   "cell_type": "code",
   "execution_count": 1,
   "metadata": {
    "collapsed": false
   },
   "outputs": [
    {
     "name": "stdout",
     "output_type": "stream",
     "text": [
      "enter the year: 2060\n",
      "2060  is a leap year \n"
     ]
    }
   ],
   "source": [
    "def leap_year(year):\n",
    "    if ( year%100==0):\n",
    "        if( year %400==0):\n",
    "            print(year,\" is a leap year \")\n",
    "\n",
    "        else:\n",
    "            print(year,\" is not a leap year \")\n",
    "    elif (year % 4==0):\n",
    "        print(year,\" is a leap year \")\n",
    "\n",
    "    else:\n",
    "         print(year,\" is not a leap year \")\n",
    "            \n",
    "\n",
    "year = (input(\"enter the year: \"))\n",
    "\n",
    "if year.isdigit():\n",
    "    year=int(year)\n",
    "    leap_year(year)\n",
    "else:\n",
    "    print(year,\" is invalid year\")\n"
   ]
  },
  {
   "cell_type": "markdown",
   "metadata": {},
   "source": [
    "   "
   ]
  },
  {
   "cell_type": "markdown",
   "metadata": {},
   "source": [
    "# Rock, Paper and Scissors\n",
    "---"
   ]
  },
  {
   "cell_type": "code",
   "execution_count": 2,
   "metadata": {
    "collapsed": false
   },
   "outputs": [
    {
     "data": {
      "text/plain": [
       "['rock', 'paper', 'scissors']"
      ]
     },
     "execution_count": 2,
     "metadata": {},
     "output_type": "execute_result"
    }
   ],
   "source": [
    "array1 = ['Rock', 'Paper', 'Scissors']\n",
    "array1=[word.lower() for word in array1]\n",
    "array1"
   ]
  },
  {
   "cell_type": "code",
   "execution_count": 3,
   "metadata": {
    "collapsed": true
   },
   "outputs": [],
   "source": [
    "import random"
   ]
  },
  {
   "cell_type": "code",
   "execution_count": 4,
   "metadata": {
    "collapsed": false
   },
   "outputs": [
    {
     "data": {
      "text/plain": [
       "'scissors'"
      ]
     },
     "execution_count": 4,
     "metadata": {},
     "output_type": "execute_result"
    }
   ],
   "source": [
    "ai_value=random.choice(array1)\n",
    "ai_value"
   ]
  },
  {
   "cell_type": "code",
   "execution_count": 5,
   "metadata": {
    "collapsed": false
   },
   "outputs": [
    {
     "name": "stdout",
     "output_type": "stream",
     "text": [
      "enter your choice: rock\n"
     ]
    }
   ],
   "source": [
    "user_input=input(\"enter your choice: \")"
   ]
  },
  {
   "cell_type": "code",
   "execution_count": 6,
   "metadata": {
    "collapsed": false
   },
   "outputs": [
    {
     "name": "stdout",
     "output_type": "stream",
     "text": [
      "you win :) as rock beats scissors\n"
     ]
    }
   ],
   "source": [
    "if user_input==ai_value:\n",
    "    print(\"tie\")\n",
    "elif user_input=='rock' and ai_value=='paper':\n",
    "    print(\"I win :) as paper beats rock \")\n",
    "elif ai_value=='rock' and user_input=='paper':\n",
    "    print(\"you win :) as paper beats rock \")\n",
    "elif ai_value=='paper' and user_input=='scissors':\n",
    "    print(\"you win :) as scissors beats paper\")\n",
    "elif ai_value=='scissors' and user_input=='paper':\n",
    "    print(\"I win :) as scissors beats paper\")\n",
    "elif ai_value=='rock' and user_input=='scissors':\n",
    "    print(\"I win :) as rock beats scissors\")\n",
    "elif ai_value=='scissors' and user_input=='rock':\n",
    "    print(\"you win :) as rock beats scissors\")\n",
    "\n"
   ]
  },
  {
   "cell_type": "code",
   "execution_count": 7,
   "metadata": {
    "collapsed": false
   },
   "outputs": [
    {
     "name": "stdout",
     "output_type": "stream",
     "text": [
      "Enter your choice: scissors\n",
      "tie\n",
      "You can enter q to exita\n",
      "Enter your choice: rock\n",
      "I win :) as paper beats rock \n",
      "You can enter q to exitq\n",
      "end\n"
     ]
    }
   ],
   "source": [
    "def ai_value_generator():\n",
    "    random_value=random.randint(0,2)\n",
    "    return(random_value)\n",
    "\n",
    "def rock_paper_scissors(user_input,ai_value):\n",
    "    if user_input=='rock' and ai_value=='paper':\n",
    "        print(\"I win :) as paper beats rock \")\n",
    "    elif ai_value=='rock' and user_input=='paper':\n",
    "        print(\"you win :) as paper beats rock \")\n",
    "    elif ai_value=='paper' and user_input=='scissors':\n",
    "        print(\"you win :) as scissors beats paper\")\n",
    "    elif ai_value=='scissors' and user_input=='paper':\n",
    "        print(\"I win :) as scissors beats paper\")\n",
    "    elif ai_value=='rock' and user_input=='scissors':\n",
    "        print(\"I win :) as rock beats scissors\")\n",
    "    elif ai_value=='scissors' and user_input=='rock':\n",
    "        print(\"you win :) as rock beats scissors\")\n",
    "    elif(user_input==ai_value):\n",
    "        print(\"tie\")\n",
    "\n",
    "values=['Rock','Paper','Scissors']\n",
    "values=[word.lower() for word in values]\n",
    "while(1):\n",
    "    ai_value=values[ai_value_generator()]\n",
    "    user_input=(input(\"Enter your choice: \")).lower()\n",
    "    rock_paper_scissors(user_input,ai_value)\n",
    "    exit = input(\"You can enter q to exit\")\n",
    "    if(exit=='q'):\n",
    "        break;\n",
    "print(\"end\")\n",
    "    \n",
    "    "
   ]
  },
  {
   "cell_type": "markdown",
   "metadata": {},
   "source": [
    " "
   ]
  },
  {
   "cell_type": "code",
   "execution_count": 8,
   "metadata": {
    "collapsed": false
   },
   "outputs": [
    {
     "name": "stdout",
     "output_type": "stream",
     "text": [
      "enter value: 1.2\n",
      "not integer\n"
     ]
    }
   ],
   "source": [
    "i=input(\"enter value: \")\n",
    "if i.isdigit():\n",
    "    print(i)\n",
    "else:\n",
    "    print(\"not integer\")"
   ]
  },
  {
   "cell_type": "markdown",
   "metadata": {},
   "source": [
    "  "
   ]
  },
  {
   "cell_type": "markdown",
   "metadata": {},
   "source": [
    "# Caesar Cipher\n",
    "---\n"
   ]
  },
  {
   "cell_type": "markdown",
   "metadata": {
    "collapsed": true
   },
   "source": [
    "(x+n)%26"
   ]
  },
  {
   "cell_type": "code",
   "execution_count": 9,
   "metadata": {
    "collapsed": false
   },
   "outputs": [
    {
     "name": "stdout",
     "output_type": "stream",
     "text": [
      "enter the text to encrypt: THE QUICK BROWN FOX JUMPS OVER THE LAZY DOG\n",
      "enter the shift value to encrypt your input in range of 0 to 25 : -3\n",
      "THE QUICK BROWN FOX JUMPS OVER THE LAZY DOG\n",
      "QEB NRFZH YOLTK CLU GRJMP LSBO QEB IXWV ALD\n"
     ]
    }
   ],
   "source": [
    "text=input(\"enter the text to encrypt: \").upper()\n",
    "shift_value=int(input(\"enter the shift value to encrypt your input in range of 0 to 25 : \"))\n",
    "encrypted_text=''\n",
    "characters=[chr(chars) for chars in range(65,91)]\n",
    "#print(characters)\n",
    "for letters in text:\n",
    "    if(letters==' '):\n",
    "        letters=letters\n",
    "        encrypted_text+=letters\n",
    "    else:\n",
    "        ascii_value=ord(letters)\n",
    "#        print(\"acii value\",ascii_value)\n",
    "        value1=characters.index(letters)\n",
    "        changed_ascii=(value1+shift_value)%26\n",
    "        encrypted_text+=characters[changed_ascii]\n",
    "#        print(letters)\n",
    "print(text)\n",
    "print(encrypted_text)"
   ]
  },
  {
   "cell_type": "code",
   "execution_count": null,
   "metadata": {
    "collapsed": true
   },
   "outputs": [],
   "source": []
  },
  {
   "cell_type": "code",
   "execution_count": null,
   "metadata": {
    "collapsed": true
   },
   "outputs": [],
   "source": []
  }
 ],
 "metadata": {
  "kernelspec": {
   "display_name": "Python 3",
   "language": "python",
   "name": "python3"
  },
  "language_info": {
   "codemirror_mode": {
    "name": "ipython",
    "version": 3
   },
   "file_extension": ".py",
   "mimetype": "text/x-python",
   "name": "python",
   "nbconvert_exporter": "python",
   "pygments_lexer": "ipython3",
   "version": "3.6.0"
  }
 },
 "nbformat": 4,
 "nbformat_minor": 2
}
